{
 "cells": [
  {
   "cell_type": "markdown",
   "metadata": {},
   "source": [
    "In Progress:\n",
    " - Adding game data to review df \n",
    "     - Is this necessary or can it be queried separately?\n",
    " - Clustering reviewers to decrease the size of the dataset\n",
    "     - Is this better than just taking the most active 1% of reviewers?"
   ]
  },
  {
   "cell_type": "markdown",
   "metadata": {},
   "source": [
    "# BoardGameGeek Review Data"
   ]
  },
  {
   "cell_type": "code",
   "execution_count": 1,
   "metadata": {},
   "outputs": [],
   "source": [
    "import numpy as np\n",
    "import pandas as pd\n",
    "import matplotlib.pyplot as plt\n",
    "import seaborn as sns"
   ]
  },
  {
   "cell_type": "code",
   "execution_count": 2,
   "metadata": {},
   "outputs": [],
   "source": [
    "%matplotlib inline\n",
    "\n",
    "sns.set_style(\"darkgrid\")\n",
    "sns.set_theme(font_scale = 1.5)"
   ]
  },
  {
   "cell_type": "markdown",
   "metadata": {},
   "source": [
    "## 1. Loading..."
   ]
  },
  {
   "cell_type": "code",
   "execution_count": 3,
   "metadata": {},
   "outputs": [],
   "source": [
    "DATA_PATH = '../data/'\n",
    "DATA = 'bgg-15m-reviews.csv'\n",
    "GAMES = 'games_detailed_info.csv'"
   ]
  },
  {
   "cell_type": "code",
   "execution_count": 4,
   "metadata": {},
   "outputs": [
    {
     "name": "stderr",
     "output_type": "stream",
     "text": [
      "/opt/anaconda3/lib/python3.8/site-packages/numpy/lib/arraysetops.py:580: FutureWarning: elementwise comparison failed; returning scalar instead, but in the future will perform elementwise comparison\n",
      "  mask |= (ar1 == a)\n"
     ]
    }
   ],
   "source": [
    "df = pd.read_csv(DATA_PATH + DATA, index_col = 0)\n",
    "game_info = pd.read_csv(DATA_PATH + GAMES, index_col = 'id')"
   ]
  },
  {
   "cell_type": "code",
   "execution_count": 5,
   "metadata": {
    "scrolled": true
   },
   "outputs": [
    {
     "data": {
      "text/html": [
       "<div>\n",
       "<style scoped>\n",
       "    .dataframe tbody tr th:only-of-type {\n",
       "        vertical-align: middle;\n",
       "    }\n",
       "\n",
       "    .dataframe tbody tr th {\n",
       "        vertical-align: top;\n",
       "    }\n",
       "\n",
       "    .dataframe thead th {\n",
       "        text-align: right;\n",
       "    }\n",
       "</style>\n",
       "<table border=\"1\" class=\"dataframe\">\n",
       "  <thead>\n",
       "    <tr style=\"text-align: right;\">\n",
       "      <th></th>\n",
       "      <th>user</th>\n",
       "      <th>rating</th>\n",
       "      <th>comment</th>\n",
       "      <th>ID</th>\n",
       "      <th>name</th>\n",
       "    </tr>\n",
       "  </thead>\n",
       "  <tbody>\n",
       "    <tr>\n",
       "      <th>0</th>\n",
       "      <td>Torsten</td>\n",
       "      <td>10.0</td>\n",
       "      <td>NaN</td>\n",
       "      <td>30549</td>\n",
       "      <td>Pandemic</td>\n",
       "    </tr>\n",
       "    <tr>\n",
       "      <th>1</th>\n",
       "      <td>mitnachtKAUBO-I</td>\n",
       "      <td>10.0</td>\n",
       "      <td>Hands down my favorite new game of BGG CON 200...</td>\n",
       "      <td>30549</td>\n",
       "      <td>Pandemic</td>\n",
       "    </tr>\n",
       "    <tr>\n",
       "      <th>2</th>\n",
       "      <td>avlawn</td>\n",
       "      <td>10.0</td>\n",
       "      <td>I tend to either love or easily tire of co-op ...</td>\n",
       "      <td>30549</td>\n",
       "      <td>Pandemic</td>\n",
       "    </tr>\n",
       "    <tr>\n",
       "      <th>3</th>\n",
       "      <td>Mike Mayer</td>\n",
       "      <td>10.0</td>\n",
       "      <td>NaN</td>\n",
       "      <td>30549</td>\n",
       "      <td>Pandemic</td>\n",
       "    </tr>\n",
       "    <tr>\n",
       "      <th>4</th>\n",
       "      <td>Mease19</td>\n",
       "      <td>10.0</td>\n",
       "      <td>This is an amazing co-op game.  I play mostly ...</td>\n",
       "      <td>30549</td>\n",
       "      <td>Pandemic</td>\n",
       "    </tr>\n",
       "  </tbody>\n",
       "</table>\n",
       "</div>"
      ],
      "text/plain": [
       "              user  rating                                            comment  \\\n",
       "0          Torsten    10.0                                                NaN   \n",
       "1  mitnachtKAUBO-I    10.0  Hands down my favorite new game of BGG CON 200...   \n",
       "2           avlawn    10.0  I tend to either love or easily tire of co-op ...   \n",
       "3       Mike Mayer    10.0                                                NaN   \n",
       "4          Mease19    10.0  This is an amazing co-op game.  I play mostly ...   \n",
       "\n",
       "      ID      name  \n",
       "0  30549  Pandemic  \n",
       "1  30549  Pandemic  \n",
       "2  30549  Pandemic  \n",
       "3  30549  Pandemic  \n",
       "4  30549  Pandemic  "
      ]
     },
     "execution_count": 5,
     "metadata": {},
     "output_type": "execute_result"
    }
   ],
   "source": [
    "df.head()"
   ]
  },
  {
   "cell_type": "code",
   "execution_count": 6,
   "metadata": {},
   "outputs": [
    {
     "data": {
      "text/plain": [
       "user             66\n",
       "rating            0\n",
       "comment    12828246\n",
       "ID                0\n",
       "name              0\n",
       "dtype: int64"
      ]
     },
     "execution_count": 6,
     "metadata": {},
     "output_type": "execute_result"
    }
   ],
   "source": [
    "df.isna().sum()"
   ]
  },
  {
   "cell_type": "code",
   "execution_count": 7,
   "metadata": {},
   "outputs": [],
   "source": [
    "df = df[df.user.notna()]"
   ]
  },
  {
   "cell_type": "code",
   "execution_count": 8,
   "metadata": {},
   "outputs": [
    {
     "data": {
      "text/plain": [
       "Index(['Unnamed: 0', 'type', 'thumbnail', 'image', 'primary', 'alternate',\n",
       "       'description', 'yearpublished', 'minplayers', 'maxplayers',\n",
       "       'suggested_num_players', 'suggested_playerage',\n",
       "       'suggested_language_dependence', 'playingtime', 'minplaytime',\n",
       "       'maxplaytime', 'minage', 'boardgamecategory', 'boardgamemechanic',\n",
       "       'boardgamefamily', 'boardgameexpansion', 'boardgameimplementation',\n",
       "       'boardgamedesigner', 'boardgameartist', 'boardgamepublisher',\n",
       "       'usersrated', 'average', 'bayesaverage', 'Board Game Rank',\n",
       "       'Strategy Game Rank', 'Family Game Rank', 'stddev', 'median', 'owned',\n",
       "       'trading', 'wanting', 'wishing', 'numcomments', 'numweights',\n",
       "       'averageweight', 'boardgameintegration', 'boardgamecompilation',\n",
       "       'Party Game Rank', 'Abstract Game Rank', 'Thematic Rank',\n",
       "       'War Game Rank', 'Customizable Rank', 'Children's Game Rank',\n",
       "       'RPG Item Rank', 'Accessory Rank', 'Video Game Rank', 'Amiga Rank',\n",
       "       'Commodore 64 Rank', 'Arcade Rank', 'Atari ST Rank'],\n",
       "      dtype='object')"
      ]
     },
     "execution_count": 8,
     "metadata": {},
     "output_type": "execute_result"
    }
   ],
   "source": [
    "game_info.columns"
   ]
  },
  {
   "cell_type": "code",
   "execution_count": 9,
   "metadata": {},
   "outputs": [],
   "source": [
    "game_info.drop(\n",
    "    columns = [\n",
    "        'Unnamed: 0',\n",
    "        'thumbnail',\n",
    "        'image',\n",
    "        'alternate',\n",
    "        'suggested_language_dependence',\n",
    "        'boardgameimplementation',\n",
    "        'trading',\n",
    "        'wanting',\n",
    "        'wishing',\n",
    "        'numcomments',\n",
    "        'numweights',\n",
    "        'boardgameintegration',\n",
    "        'boardgamecompilation',\n",
    "        'boardgamefamily',\n",
    "        'RPG Item Rank',\n",
    "        'Accessory Rank',\n",
    "        'Video Game Rank',\n",
    "        'Amiga Rank',\n",
    "        'Commodore 64 Rank',\n",
    "        'Arcade Rank',\n",
    "        'Atari ST Rank',\n",
    "    ],\n",
    "    inplace = True\n",
    ")"
   ]
  },
  {
   "cell_type": "code",
   "execution_count": 10,
   "metadata": {},
   "outputs": [],
   "source": [
    "from collections import OrderedDict\n",
    "\n",
    "def get_suggested_players(entry):\n",
    "    player_counts = eval(entry)\n",
    "    \n",
    "    if not isinstance(player_counts, list):\n",
    "        return player_counts['@numplayers']\n",
    "    \n",
    "    best_count = (-1, 0) # (@value, @numvotes)\n",
    "    for count_dic in player_counts:\n",
    "        # assert dic['result'][0]['@value'] == 'Best'\n",
    "        if (votes := int(count_dic['result'][0]['@numvotes'])) > best_count[1]:\n",
    "            best_count = (count_dic['@numplayers'], votes)\n",
    "    \n",
    "    return best_count[0]"
   ]
  },
  {
   "cell_type": "code",
   "execution_count": 11,
   "metadata": {},
   "outputs": [],
   "source": [
    "game_info['suggested_player_count'] = game_info['suggested_num_players'].apply(get_suggested_players)"
   ]
  },
  {
   "cell_type": "code",
   "execution_count": 12,
   "metadata": {},
   "outputs": [
    {
     "data": {
      "text/plain": [
       "2      5612\n",
       "4      5111\n",
       "-1     2997\n",
       "3      2493\n",
       "5      1036\n",
       "1       753\n",
       "6       718\n",
       "0+      167\n",
       "8       102\n",
       "7        91\n",
       "2+       48\n",
       "4+       23\n",
       "10       19\n",
       "9        12\n",
       "6+       11\n",
       "12        6\n",
       "5+        5\n",
       "13        4\n",
       "11        3\n",
       "15        3\n",
       "16        3\n",
       "14        3\n",
       "3+        3\n",
       "10+       2\n",
       "8+        2\n",
       "18        1\n",
       "1+        1\n",
       "30+       1\n",
       "Name: suggested_player_count, dtype: int64"
      ]
     },
     "execution_count": 12,
     "metadata": {},
     "output_type": "execute_result"
    }
   ],
   "source": [
    "game_info['suggested_player_count'].value_counts()"
   ]
  },
  {
   "cell_type": "markdown",
   "metadata": {},
   "source": [
    "### Things to Investigate:\n",
    "- (-1) player count -- no votes for best count\n",
    "- 0 player count\n",
    "- grouping the 'n+' player counts so it can be an integer "
   ]
  },
  {
   "cell_type": "code",
   "execution_count": 13,
   "metadata": {},
   "outputs": [
    {
     "data": {
      "text/plain": [
       "id\n",
       "761       Welcome to the Old West, Zombie style. The und...\n",
       "152758    Penguin is a fast-paced game in which players ...\n",
       "1527      &quot;Prehistory.&#10;&#10;Hot. Primordial. Du...\n",
       "4388      Reiner Knizia has designed a number of games s...\n",
       "8039      All-new multi-media version of America's favor...\n",
       "                                ...                        \n",
       "165743    &quot;All&rsquo;s fair in love and war&quot;, ...\n",
       "33623     Larry, a.k.a. Bl&ouml;ff, is a bluffing card g...\n",
       "13154     The rules to this old small box edition from P...\n",
       "28371     A monopoly (from Greek monos &mu;&#207;&#140;&...\n",
       "284862    Both players want to make the biggest groups w...\n",
       "Name: description, Length: 2997, dtype: object"
      ]
     },
     "execution_count": 13,
     "metadata": {},
     "output_type": "execute_result"
    }
   ],
   "source": [
    "game_info[game_info['suggested_player_count'] == -1].description"
   ]
  },
  {
   "cell_type": "code",
   "execution_count": 14,
   "metadata": {},
   "outputs": [
    {
     "data": {
      "text/plain": [
       "type                                                              boardgame\n",
       "primary                                             The Great Brain Robbery\n",
       "description               Welcome to the Old West, Zombie style. The und...\n",
       "yearpublished                                                          2000\n",
       "minplayers                                                                3\n",
       "maxplayers                                                                7\n",
       "suggested_num_players     [OrderedDict([('@numplayers', '1'), ('result',...\n",
       "suggested_playerage       [OrderedDict([('@value', '2'), ('@numvotes', '...\n",
       "playingtime                                                              60\n",
       "minplaytime                                                              60\n",
       "maxplaytime                                                              60\n",
       "minage                                                                   10\n",
       "boardgamecategory         ['American West', 'Card Game', 'Fantasy', 'Fig...\n",
       "boardgamemechanic         ['Campaign / Battle Card Driven', 'Roll / Spin...\n",
       "boardgameexpansion                                                      NaN\n",
       "boardgamedesigner                                          ['James Ernest']\n",
       "boardgameartist                                            ['Brian Snoddy']\n",
       "boardgamepublisher                      ['Cheapass Games', 'Truant Spiele']\n",
       "usersrated                                                              557\n",
       "average                                                             5.54138\n",
       "bayesaverage                                                         5.5024\n",
       "Board Game Rank                                                       15621\n",
       "Strategy Game Rank                                                      NaN\n",
       "Family Game Rank                                                       1805\n",
       "stddev                                                               1.4169\n",
       "median                                                                    0\n",
       "owned                                                                  1298\n",
       "averageweight                                                        1.3061\n",
       "Party Game Rank                                                         NaN\n",
       "Abstract Game Rank                                                      NaN\n",
       "Thematic Rank                                                          1045\n",
       "War Game Rank                                                           NaN\n",
       "Customizable Rank                                                       NaN\n",
       "Children's Game Rank                                                    NaN\n",
       "suggested_player_count                                                   -1\n",
       "Name: 761, dtype: object"
      ]
     },
     "execution_count": 14,
     "metadata": {},
     "output_type": "execute_result"
    }
   ],
   "source": [
    "game_info.loc[761]"
   ]
  },
  {
   "cell_type": "code",
   "execution_count": 15,
   "metadata": {},
   "outputs": [
    {
     "data": {
      "text/plain": [
       "\"\\nQUERIES = ('minplayers', 'maxplayers', 'suggested_player_count')\\n\\nfor query in QUERIES:\\n    df[query] = df['ID'].map(game_info[query])\\n\\ndf.head()\\n\""
      ]
     },
     "execution_count": 15,
     "metadata": {},
     "output_type": "execute_result"
    }
   ],
   "source": [
    "'''\n",
    "QUERIES = ('minplayers', 'maxplayers', 'suggested_player_count')\n",
    "\n",
    "for query in QUERIES:\n",
    "    df[query] = df['ID'].map(game_info[query])\n",
    "\n",
    "df.head()\n",
    "'''"
   ]
  },
  {
   "cell_type": "markdown",
   "metadata": {},
   "source": [
    "## 2. Basic Questions"
   ]
  },
  {
   "cell_type": "code",
   "execution_count": 16,
   "metadata": {},
   "outputs": [],
   "source": [
    "def pretty_print(var_name):\n",
    "    print(f\"{var_name} = {eval(var_name)}\")"
   ]
  },
  {
   "cell_type": "markdown",
   "metadata": {},
   "source": [
    "### How many reviews?"
   ]
  },
  {
   "cell_type": "code",
   "execution_count": 17,
   "metadata": {},
   "outputs": [
    {
     "name": "stdout",
     "output_type": "stream",
     "text": [
      "total_reviews = 15823203\n"
     ]
    }
   ],
   "source": [
    "total_reviews = len(df)\n",
    "pretty_print('total_reviews')"
   ]
  },
  {
   "cell_type": "markdown",
   "metadata": {},
   "source": [
    "### How many reviewers?"
   ]
  },
  {
   "cell_type": "code",
   "execution_count": 18,
   "metadata": {},
   "outputs": [
    {
     "name": "stdout",
     "output_type": "stream",
     "text": [
      "total_reviewers = 351048\n"
     ]
    }
   ],
   "source": [
    "total_reviewers = df.user.unique().size\n",
    "pretty_print('total_reviewers')"
   ]
  },
  {
   "cell_type": "markdown",
   "metadata": {},
   "source": [
    "### How many games?"
   ]
  },
  {
   "cell_type": "code",
   "execution_count": 19,
   "metadata": {},
   "outputs": [
    {
     "name": "stdout",
     "output_type": "stream",
     "text": [
      "total_games = 18984\n"
     ]
    }
   ],
   "source": [
    "total_games = df.name.unique().size\n",
    "pretty_print('total_games')"
   ]
  },
  {
   "cell_type": "markdown",
   "metadata": {},
   "source": [
    "## 3. About the Reviewers"
   ]
  },
  {
   "cell_type": "code",
   "execution_count": 20,
   "metadata": {},
   "outputs": [
    {
     "data": {
      "text/plain": [
       "leffe dubbel    6027\n",
       "TomVasel        4950\n",
       "Doel            4876\n",
       "warta           4811\n",
       "Hessu68         4602\n",
       "                ... \n",
       "Aurroar            1\n",
       "zazby              1\n",
       "00T00              1\n",
       "esstien            1\n",
       "enkwi              1\n",
       "Name: user, Length: 351048, dtype: int64"
      ]
     },
     "execution_count": 20,
     "metadata": {},
     "output_type": "execute_result"
    }
   ],
   "source": [
    "review_counts = df.user.value_counts()\n",
    "review_counts"
   ]
  },
  {
   "cell_type": "code",
   "execution_count": 21,
   "metadata": {},
   "outputs": [
    {
     "data": {
      "text/plain": [
       "'mean: 45.074186436042936, median: 12.0'"
      ]
     },
     "execution_count": 21,
     "metadata": {},
     "output_type": "execute_result"
    }
   ],
   "source": [
    "f\"mean: {review_counts.mean()}, median: {review_counts.median()}\""
   ]
  },
  {
   "cell_type": "code",
   "execution_count": 22,
   "metadata": {},
   "outputs": [
    {
     "data": {
      "text/plain": [
       "0.0       1.0\n",
       "0.1       1.0\n",
       "0.2       2.0\n",
       "0.3       3.0\n",
       "0.4       7.0\n",
       "0.5      12.0\n",
       "0.6      20.0\n",
       "0.7      33.0\n",
       "0.8      57.0\n",
       "0.9     113.0\n",
       "1.0    6027.0\n",
       "Name: user, dtype: float64"
      ]
     },
     "execution_count": 22,
     "metadata": {},
     "output_type": "execute_result"
    }
   ],
   "source": [
    "percentiles = review_counts.quantile([.01*x for x in range(101)])\n",
    "percentiles[::10]"
   ]
  },
  {
   "cell_type": "code",
   "execution_count": 23,
   "metadata": {},
   "outputs": [
    {
     "name": "stdout",
     "output_type": "stream",
     "text": [
      "1% of reviewers control 17.01% of the reviews\n"
     ]
    }
   ],
   "source": [
    "print(f\"1% of reviewers control {review_counts[review_counts > percentiles[.99]].sum() / total_reviews*100:.2f}% of the reviews\")"
   ]
  },
  {
   "cell_type": "code",
   "execution_count": 24,
   "metadata": {},
   "outputs": [
    {
     "name": "stdout",
     "output_type": "stream",
     "text": [
      " 0.42% of reviews are by users with only 1 review\n"
     ]
    }
   ],
   "source": [
    "print(f\"{review_counts[review_counts == 1].sum() / total_reviews * 100: .2f}% of reviews are by users with only 1 review\")"
   ]
  },
  {
   "cell_type": "code",
   "execution_count": 25,
   "metadata": {},
   "outputs": [
    {
     "name": "stdout",
     "output_type": "stream",
     "text": [
      " 4.32% of reviews are by users with fewer than 12 (median) reviews\n"
     ]
    }
   ],
   "source": [
    "print(f\"{review_counts[review_counts <= 12 ].sum() / total_reviews * 100: .2f}% of reviews are by users with fewer than 12 (median) reviews\")"
   ]
  },
  {
   "cell_type": "code",
   "execution_count": 26,
   "metadata": {},
   "outputs": [
    {
     "data": {
      "image/png": "[encoded data removed]",
      "text/plain": [
       "<Figure size 1440x720 with 2 Axes>"
      ]
     },
     "metadata": {},
     "output_type": "display_data"
    }
   ],
   "source": [
    "fig, axes = plt.subplots(nrows = 1, ncols = 2, figsize = (20,10))\n",
    "\n",
    "X = percentiles.index\n",
    "Y = np.array([review_counts[review_counts <= percentiles[i]].sum() / total_reviews * 100 for i in X])\n",
    "\n",
    "sns.lineplot(x = X*100, y= Y, ax = axes[0])\n",
    "axes[0].set_xlabel(\"reviewer percentile (by number of reviews)\")\n",
    "axes[0].set_ylabel(\"percentage of total reviews\")\n",
    "axes[0].set_title(\"Distribution of Reviews (cumulative)\")\n",
    "\n",
    "sns.lineplot(x = X*100, y = np.log(Y+1), ax = axes[1])\n",
    "axes[1].set_ylabel(\"log(Y+1)\")\n",
    "\n",
    "plt.tight_layout()\n",
    "\n",
    "pass"
   ]
  },
  {
   "cell_type": "markdown",
   "metadata": {},
   "source": [
    "## 4. What is the distribution of ratings?"
   ]
  },
  {
   "cell_type": "code",
   "execution_count": 27,
   "metadata": {},
   "outputs": [
    {
     "data": {
      "image/png": "[encoded data removed]",
      "text/plain": [
       "<Figure size 432x288 with 1 Axes>"
      ]
     },
     "metadata": {},
     "output_type": "display_data"
    }
   ],
   "source": [
    "ax = sns.histplot(data = df, x = 'rating', bins = 10)\n",
    "plt.ticklabel_format(style='plain', axis='y')\n"
   ]
  },
  {
   "cell_type": "code",
   "execution_count": 28,
   "metadata": {},
   "outputs": [
    {
     "data": {
      "text/plain": [
       "'The mean review score is  7.055 and the median is 7.0'"
      ]
     },
     "execution_count": 28,
     "metadata": {},
     "output_type": "execute_result"
    }
   ],
   "source": [
    "f\"The mean review score is {df.rating.mean() : .3f} and the median is {df.rating.median()}\""
   ]
  },
  {
   "cell_type": "markdown",
   "metadata": {},
   "source": [
    "### Are users with more reviews more selective?"
   ]
  },
  {
   "cell_type": "code",
   "execution_count": 29,
   "metadata": {},
   "outputs": [],
   "source": [
    "df['reviews_by_user'] = df['user'].map(review_counts)"
   ]
  },
  {
   "cell_type": "code",
   "execution_count": 30,
   "metadata": {},
   "outputs": [
    {
     "data": {
      "image/png": "[encoded data removed]",
      "text/plain": [
       "<Figure size 1440x360 with 3 Axes>"
      ]
     },
     "metadata": {},
     "output_type": "display_data"
    }
   ],
   "source": [
    "fig, axes = plt.subplots(nrows = 1, ncols = 3, figsize = (20,5))\n",
    "\n",
    "ax = sns.histplot(data = df[df['reviews_by_user'] == 1], x = 'rating', bins = 10, ax = axes[0])\n",
    "ax.set_title('Ratings by users with 1 review')\n",
    "\n",
    "ax = sns.histplot(data = df[df['reviews_by_user'] <= percentiles[.5]], x = 'rating', bins = 10, ax = axes[1])\n",
    "ax.set_title(f'Ratings by users with {percentiles[.5]:.0f} or fewer reviews')\n",
    "\n",
    "ax = sns.histplot(data = df[df['reviews_by_user'] <= percentiles[.9]], x = 'rating', bins = 10, ax = axes[2])\n",
    "ax.set_title(f'Ratings by users with {percentiles[.9]:.0f} or fewer reviews (bottom 90%)')\n",
    "\n",
    "for ax in axes:\n",
    "    ax.ticklabel_format(style = 'plain')\n",
    "\n",
    "plt.tight_layout()\n",
    "pass"
   ]
  },
  {
   "cell_type": "code",
   "execution_count": 31,
   "metadata": {},
   "outputs": [
    {
     "data": {
      "image/png": "[encoded data removed]",
      "text/plain": [
       "<Figure size 1440x360 with 2 Axes>"
      ]
     },
     "metadata": {},
     "output_type": "display_data"
    }
   ],
   "source": [
    "_, axes = plt.subplots(nrows = 1, ncols = 2, figsize = (20,5))\n",
    "\n",
    "ax = sns.histplot(data = df[df['reviews_by_user'] < percentiles.iloc[95]], x = 'rating', bins = 10, ax = axes[0])\n",
    "ax.set_title(f'Ratings by users with fewer than {percentiles.iloc[95]:.0f} reviews')\n",
    "ax.ticklabel_format(style = 'plain')\n",
    "\n",
    "ax = sns.histplot(data = df[df['reviews_by_user'] >= percentiles.iloc[95]], x = 'rating', bins = 10, ax = axes[1])\n",
    "ax.set_title(f'Ratings by users with {percentiles.iloc[95]:.0f} or more reviews (top 5% of reviewers)')\n",
    "ax.ticklabel_format(style = 'plain')\n",
    "\n",
    "pass"
   ]
  },
  {
   "cell_type": "code",
   "execution_count": 32,
   "metadata": {},
   "outputs": [
    {
     "name": "stdout",
     "output_type": "stream",
     "text": [
      "The top 5% of reviewers write 42.83% of the reviews\n"
     ]
    }
   ],
   "source": [
    "print(f\"The top 5% of reviewers write {review_counts[review_counts >= percentiles.iloc[95]].sum() / total_reviews*100:.2f}% of the reviews\")"
   ]
  },
  {
   "cell_type": "markdown",
   "metadata": {},
   "source": [
    "### What about popular / unpopular games?"
   ]
  },
  {
   "cell_type": "code",
   "execution_count": 33,
   "metadata": {},
   "outputs": [],
   "source": [
    "number_of_reviews_quantiles = game_info['usersrated'].quantile([.1*x for x in range(11)])"
   ]
  },
  {
   "cell_type": "code",
   "execution_count": 34,
   "metadata": {},
   "outputs": [
    {
     "data": {
      "text/plain": [
       "120.0"
      ]
     },
     "execution_count": 34,
     "metadata": {},
     "output_type": "execute_result"
    }
   ],
   "source": [
    "number_of_reviews_quantiles[.5]"
   ]
  },
  {
   "cell_type": "code",
   "execution_count": 35,
   "metadata": {},
   "outputs": [
    {
     "data": {
      "image/png": "[encoded data removed]",
      "text/plain": [
       "<Figure size 432x288 with 1 Axes>"
      ]
     },
     "metadata": {},
     "output_type": "display_data"
    }
   ],
   "source": [
    "bottom_90 = game_info[game_info.usersrated < number_of_reviews_quantiles[.9]]\n",
    "sns.histplot(data = df[df['ID'].isin(bottom_90.index)], x = 'rating', bins = 10)\n",
    "pass"
   ]
  },
  {
   "cell_type": "markdown",
   "metadata": {},
   "source": [
    "## 5. Analysis & Feature Extraction"
   ]
  },
  {
   "cell_type": "markdown",
   "metadata": {},
   "source": [
    "Some ideas:\n",
    " - Add genre of game and other tags\n",
    " - Cluster reviewers into different profiles / gamer types?"
   ]
  },
  {
   "cell_type": "code",
   "execution_count": 36,
   "metadata": {},
   "outputs": [
    {
     "data": {
      "text/html": [
       "<div>\n",
       "<style scoped>\n",
       "    .dataframe tbody tr th:only-of-type {\n",
       "        vertical-align: middle;\n",
       "    }\n",
       "\n",
       "    .dataframe tbody tr th {\n",
       "        vertical-align: top;\n",
       "    }\n",
       "\n",
       "    .dataframe thead th {\n",
       "        text-align: right;\n",
       "    }\n",
       "</style>\n",
       "<table border=\"1\" class=\"dataframe\">\n",
       "  <thead>\n",
       "    <tr style=\"text-align: right;\">\n",
       "      <th></th>\n",
       "      <th>user</th>\n",
       "      <th>rating</th>\n",
       "      <th>comment</th>\n",
       "      <th>ID</th>\n",
       "      <th>name</th>\n",
       "      <th>reviews_by_user</th>\n",
       "    </tr>\n",
       "  </thead>\n",
       "  <tbody>\n",
       "    <tr>\n",
       "      <th>0</th>\n",
       "      <td>Torsten</td>\n",
       "      <td>10.0</td>\n",
       "      <td>NaN</td>\n",
       "      <td>30549</td>\n",
       "      <td>Pandemic</td>\n",
       "      <td>1358</td>\n",
       "    </tr>\n",
       "    <tr>\n",
       "      <th>1</th>\n",
       "      <td>mitnachtKAUBO-I</td>\n",
       "      <td>10.0</td>\n",
       "      <td>Hands down my favorite new game of BGG CON 200...</td>\n",
       "      <td>30549</td>\n",
       "      <td>Pandemic</td>\n",
       "      <td>395</td>\n",
       "    </tr>\n",
       "    <tr>\n",
       "      <th>2</th>\n",
       "      <td>avlawn</td>\n",
       "      <td>10.0</td>\n",
       "      <td>I tend to either love or easily tire of co-op ...</td>\n",
       "      <td>30549</td>\n",
       "      <td>Pandemic</td>\n",
       "      <td>1036</td>\n",
       "    </tr>\n",
       "    <tr>\n",
       "      <th>3</th>\n",
       "      <td>Mike Mayer</td>\n",
       "      <td>10.0</td>\n",
       "      <td>NaN</td>\n",
       "      <td>30549</td>\n",
       "      <td>Pandemic</td>\n",
       "      <td>716</td>\n",
       "    </tr>\n",
       "    <tr>\n",
       "      <th>4</th>\n",
       "      <td>Mease19</td>\n",
       "      <td>10.0</td>\n",
       "      <td>This is an amazing co-op game.  I play mostly ...</td>\n",
       "      <td>30549</td>\n",
       "      <td>Pandemic</td>\n",
       "      <td>379</td>\n",
       "    </tr>\n",
       "  </tbody>\n",
       "</table>\n",
       "</div>"
      ],
      "text/plain": [
       "              user  rating                                            comment  \\\n",
       "0          Torsten    10.0                                                NaN   \n",
       "1  mitnachtKAUBO-I    10.0  Hands down my favorite new game of BGG CON 200...   \n",
       "2           avlawn    10.0  I tend to either love or easily tire of co-op ...   \n",
       "3       Mike Mayer    10.0                                                NaN   \n",
       "4          Mease19    10.0  This is an amazing co-op game.  I play mostly ...   \n",
       "\n",
       "      ID      name  reviews_by_user  \n",
       "0  30549  Pandemic             1358  \n",
       "1  30549  Pandemic              395  \n",
       "2  30549  Pandemic             1036  \n",
       "3  30549  Pandemic              716  \n",
       "4  30549  Pandemic              379  "
      ]
     },
     "execution_count": 36,
     "metadata": {},
     "output_type": "execute_result"
    }
   ],
   "source": [
    "df.head()"
   ]
  },
  {
   "cell_type": "code",
   "execution_count": 37,
   "metadata": {},
   "outputs": [
    {
     "data": {
      "text/plain": [
       "7.00000    3566149\n",
       "8.00000    3002813\n",
       "6.00000    2346040\n",
       "9.00000    1424911\n",
       "5.00000    1077752\n",
       "            ...   \n",
       "6.48204          1\n",
       "7.25410          1\n",
       "9.00040          1\n",
       "4.59100          1\n",
       "2.20600          1\n",
       "Name: rating, Length: 10172, dtype: int64"
      ]
     },
     "execution_count": 37,
     "metadata": {},
     "output_type": "execute_result"
    }
   ],
   "source": [
    "df['rating'].value_counts()"
   ]
  },
  {
   "cell_type": "code",
   "execution_count": 38,
   "metadata": {},
   "outputs": [
    {
     "data": {
      "text/plain": [
       "5.000000e-01    5\n",
       "1.000000e-01    3\n",
       "1.000000e-03    2\n",
       "1.000000e-04    1\n",
       "1.401300e-45    1\n",
       "1.000000e-30    1\n",
       "Name: rating, dtype: int64"
      ]
     },
     "execution_count": 38,
     "metadata": {},
     "output_type": "execute_result"
    }
   ],
   "source": [
    "df['rating'][df.rating < 1].value_counts()"
   ]
  },
  {
   "cell_type": "markdown",
   "metadata": {},
   "source": [
    "## Recommendation (PyTorch)"
   ]
  },
  {
   "cell_type": "code",
   "execution_count": 39,
   "metadata": {},
   "outputs": [],
   "source": [
    "import torch\n",
    "import torch.nn as nn\n",
    "import torch.nn.functional as F\n",
    "import torch.optim as optim\n",
    "import pickle\n",
    "import math"
   ]
  },
  {
   "cell_type": "code",
   "execution_count": 40,
   "metadata": {},
   "outputs": [],
   "source": [
    "# import pt_util here"
   ]
  },
  {
   "cell_type": "code",
   "execution_count": null,
   "metadata": {},
   "outputs": [],
   "source": [
    "from torch.utils.data import Dataset, DataLoader\n",
    "\n",
    "class BoardGameDataSet(Dataset):\n",
    "    def __init__(self, df):\n",
    "        super().__init__()\n",
    "        # prepare_data(csv_file)\n",
    "        self.reviews = df\n",
    "\n",
    "    def __len__(self):\n",
    "        return len(self.df)\n",
    "    \n",
    "    def __getitem__(self, idx):\n",
    "        \n"
   ]
  },
  {
   "cell_type": "code",
   "execution_count": 41,
   "metadata": {},
   "outputs": [],
   "source": [
    "class HybridNet(nn.Module):\n",
    "    def __init__(self, n_users, n_games, n_factors = 50):\n",
    "        super().__init__()\n",
    "        self.n_users = n_users\n",
    "        self.n_games = n_games\n",
    "        \n",
    "        self.user_embedding = nn.Embedding(n_users, n_factors)\n",
    "        self.game_embedding = nn.Embedding(n_games, n_factors)\n",
    "        self.drop = nn.Dropout(.2)\n",
    "        self.fc1 = nn.Linear(n_users + n_games, 128)\n",
    "        self.out = nn.Linear(128, 1)\n",
    "    \n",
    "    def forward(self, users, games):\n",
    "        x = torch.cat([self.user_embedding(users), self.game_embedding(games)], dim = 1)\n",
    "        x = self.drop(x)\n",
    "        x = F.relu(self.fc1)\n",
    "        x = 10*F.sigmoid(self.out(x))\n",
    "        return x\n",
    "    \n",
    "    def loss(self, prediction, label):\n",
    "        return nn.MSELoss()(prediction, label)\n",
    "    \n",
    "    def save_model(self, file_path, num_to_keep = 1):\n",
    "        pt_util.save(self.file_path, num_to_keep)\n",
    "        \n",
    "    def save_best_model(self, accuracy, file_path, num_to_keep=1):\n",
    "        try:\n",
    "            best_accuracy = torch.load(file_path)['metrics']['accuracy']\n",
    "            if accuracy > best_accuracy:\n",
    "                self.save_model(file_path, num_to_keep)\n",
    "        except FileNotFoundError:\n",
    "            self.save_model(file_path, num_to_keep)\n",
    "        \n",
    "    def load_model(self, file_path):\n",
    "        pt_util.restore(self, file_path)\n",
    "        \n",
    "    def load_last_model(self, dir_path):\n",
    "        return pt_util.restore_latest(self, dir_path)"
   ]
  },
  {
   "cell_type": "markdown",
   "metadata": {},
   "source": [
    "Below is training code from class"
   ]
  },
  {
   "cell_type": "code",
   "execution_count": 42,
   "metadata": {},
   "outputs": [],
   "source": [
    "import time\n",
    "def train(model, device, train_loader, optimizer, epoch, log_interval):\n",
    "    model.train()\n",
    "    losses = []\n",
    "    for batch_idx, (data, label) in enumerate(train_loader):\n",
    "        data, label = data.to(device), label.to(device)\n",
    "        optimizer.zero_grad()\n",
    "        output = model(data)\n",
    "        loss = model.loss(output, label)\n",
    "        losses.append(loss.item())\n",
    "        loss.backward()\n",
    "        optimizer.step()\n",
    "        if batch_idx % log_interval == 0:\n",
    "            print('{} Train Epoch: {} [{}/{} ({:.0f}%)]\\tLoss: {:.6f}'.format(\n",
    "                time.ctime(time.time()),\n",
    "                epoch, batch_idx * len(data), len(train_loader.dataset),\n",
    "                100. * batch_idx / len(train_loader), loss.item()))\n",
    "    return np.mean(losses)\n",
    "\n",
    "def test(model, device, test_loader, log_interval=None):\n",
    "    model.eval()\n",
    "    test_loss = 0\n",
    "    correct = 0\n",
    "\n",
    "    with torch.no_grad():\n",
    "        for batch_idx, (data, label) in enumerate(test_loader):\n",
    "            data, label = data.to(device), label.to(device)\n",
    "            output = model(data)\n",
    "            test_loss_on = model.loss(output, label, reduction='sum').item()\n",
    "            test_loss += test_loss_on\n",
    "            pred = output.max(1)[1]\n",
    "            correct_mask = pred.eq(label.view_as(pred))\n",
    "            num_correct = correct_mask.sum().item()\n",
    "            correct += num_correct\n",
    "            if log_interval is not None and batch_idx % log_interval == 0:\n",
    "                print('{} Test: [{}/{} ({:.0f}%)]\\tLoss: {:.6f}'.format(\n",
    "                    time.ctime(time.time()),\n",
    "                    batch_idx * len(data), len(test_loader.dataset),\n",
    "                    100. * batch_idx / len(test_loader), test_loss_on))\n",
    "\n",
    "    test_loss /= len(test_loader.dataset)\n",
    "    test_accuracy = 100. * correct / len(test_loader.dataset)\n",
    "\n",
    "    print('\\nTest set: Average loss: {:.4f}, Accuracy: {}/{} ({:.0f}%)\\n'.format(\n",
    "        test_loss, correct, len(test_loader.dataset), test_accuracy))\n",
    "    return test_loss, test_accuracy"
   ]
  },
  {
   "cell_type": "markdown",
   "metadata": {},
   "source": [
    "## Recommendation (surprise)"
   ]
  },
  {
   "cell_type": "code",
   "execution_count": 43,
   "metadata": {},
   "outputs": [],
   "source": [
    "import surprise"
   ]
  },
  {
   "cell_type": "code",
   "execution_count": 44,
   "metadata": {},
   "outputs": [
    {
     "data": {
      "text/html": [
       "<div>\n",
       "<style scoped>\n",
       "    .dataframe tbody tr th:only-of-type {\n",
       "        vertical-align: middle;\n",
       "    }\n",
       "\n",
       "    .dataframe tbody tr th {\n",
       "        vertical-align: top;\n",
       "    }\n",
       "\n",
       "    .dataframe thead th {\n",
       "        text-align: right;\n",
       "    }\n",
       "</style>\n",
       "<table border=\"1\" class=\"dataframe\">\n",
       "  <thead>\n",
       "    <tr style=\"text-align: right;\">\n",
       "      <th></th>\n",
       "      <th>user</th>\n",
       "      <th>rating</th>\n",
       "      <th>comment</th>\n",
       "      <th>ID</th>\n",
       "      <th>name</th>\n",
       "      <th>reviews_by_user</th>\n",
       "    </tr>\n",
       "  </thead>\n",
       "  <tbody>\n",
       "    <tr>\n",
       "      <th>0</th>\n",
       "      <td>Torsten</td>\n",
       "      <td>10.0</td>\n",
       "      <td>NaN</td>\n",
       "      <td>30549</td>\n",
       "      <td>Pandemic</td>\n",
       "      <td>1358</td>\n",
       "    </tr>\n",
       "    <tr>\n",
       "      <th>1</th>\n",
       "      <td>mitnachtKAUBO-I</td>\n",
       "      <td>10.0</td>\n",
       "      <td>Hands down my favorite new game of BGG CON 200...</td>\n",
       "      <td>30549</td>\n",
       "      <td>Pandemic</td>\n",
       "      <td>395</td>\n",
       "    </tr>\n",
       "    <tr>\n",
       "      <th>2</th>\n",
       "      <td>avlawn</td>\n",
       "      <td>10.0</td>\n",
       "      <td>I tend to either love or easily tire of co-op ...</td>\n",
       "      <td>30549</td>\n",
       "      <td>Pandemic</td>\n",
       "      <td>1036</td>\n",
       "    </tr>\n",
       "    <tr>\n",
       "      <th>3</th>\n",
       "      <td>Mike Mayer</td>\n",
       "      <td>10.0</td>\n",
       "      <td>NaN</td>\n",
       "      <td>30549</td>\n",
       "      <td>Pandemic</td>\n",
       "      <td>716</td>\n",
       "    </tr>\n",
       "    <tr>\n",
       "      <th>4</th>\n",
       "      <td>Mease19</td>\n",
       "      <td>10.0</td>\n",
       "      <td>This is an amazing co-op game.  I play mostly ...</td>\n",
       "      <td>30549</td>\n",
       "      <td>Pandemic</td>\n",
       "      <td>379</td>\n",
       "    </tr>\n",
       "  </tbody>\n",
       "</table>\n",
       "</div>"
      ],
      "text/plain": [
       "              user  rating                                            comment  \\\n",
       "0          Torsten    10.0                                                NaN   \n",
       "1  mitnachtKAUBO-I    10.0  Hands down my favorite new game of BGG CON 200...   \n",
       "2           avlawn    10.0  I tend to either love or easily tire of co-op ...   \n",
       "3       Mike Mayer    10.0                                                NaN   \n",
       "4          Mease19    10.0  This is an amazing co-op game.  I play mostly ...   \n",
       "\n",
       "      ID      name  reviews_by_user  \n",
       "0  30549  Pandemic             1358  \n",
       "1  30549  Pandemic              395  \n",
       "2  30549  Pandemic             1036  \n",
       "3  30549  Pandemic              716  \n",
       "4  30549  Pandemic              379  "
      ]
     },
     "execution_count": 44,
     "metadata": {},
     "output_type": "execute_result"
    }
   ],
   "source": [
    "df.head()"
   ]
  },
  {
   "cell_type": "code",
   "execution_count": 45,
   "metadata": {},
   "outputs": [
    {
     "data": {
      "text/plain": [
       "Index(['user', 'rating', 'comment', 'ID', 'name', 'reviews_by_user'], dtype='object')"
      ]
     },
     "execution_count": 45,
     "metadata": {},
     "output_type": "execute_result"
    }
   ],
   "source": [
    "df.columns"
   ]
  },
  {
   "cell_type": "markdown",
   "metadata": {},
   "source": [
    "import os\n",
    "import surprise\n",
    "import pandas as pd\n",
    "\n",
    "df = df[df.reviews_by_user > 113]\n",
    "df = df[df.user.notna()]\n",
    "df = df[['user', 'name', 'rating']]\n",
    "reader = surprise.Reader(rating_scale = (df.rating.min(), df.rating.max()))\n",
    "data = surprise.Dataset.load_from_df(df, reader)\n",
    "\n",
    "\n",
    "#if __name__ == '__main__':\n",
    "alg = surprise.SVD()\n",
    "output = surprise.model_selection.cross_validate(alg, data, verbose = True)\n"
   ]
  },
  {
   "cell_type": "code",
   "execution_count": null,
   "metadata": {},
   "outputs": [],
   "source": []
  }
 ],
 "metadata": {
  "kernelspec": {
   "display_name": "Python 3",
   "language": "python",
   "name": "python3"
  },
  "language_info": {
   "codemirror_mode": {
    "name": "ipython",
    "version": 3
   },
   "file_extension": ".py",
   "mimetype": "text/x-python",
   "name": "python",
   "nbconvert_exporter": "python",
   "pygments_lexer": "ipython3",
   "version": "3.8.5"
  }
 },
 "nbformat": 4,
 "nbformat_minor": 4
}
